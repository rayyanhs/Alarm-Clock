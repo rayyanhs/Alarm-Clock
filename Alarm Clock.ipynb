{
 "cells": [
  {
   "cell_type": "markdown",
   "id": "43c89d80",
   "metadata": {},
   "source": [
    "# <span style=\"color:red\">1) Alarm Clock </span> "
   ]
  },
  {
   "cell_type": "code",
   "execution_count": null,
   "id": "4da781d0",
   "metadata": {},
   "outputs": [],
   "source": [
    "#Importing all the necessary libraries to form the alarm clock:\n",
    "\n",
    "from tkinter import *\n",
    "import datetime\n",
    "import time\n",
    "import winsound"
   ]
  },
  {
   "cell_type": "code",
   "execution_count": null,
   "id": "5eb2dbf1",
   "metadata": {},
   "outputs": [],
   "source": [
    "#Tkinter module belongs to a standard library of GUI in Python. \n",
    "#It helps us to create a dialog box with any information that we want \n",
    "#to provide or get from the users\n",
    "\n",
    "#Winsound module provides access to the basic sound playing machinery provided by Windows platforms. \n",
    "#This is useful to generate the sound immediately when a function is called."
   ]
  },
  {
   "cell_type": "code",
   "execution_count": null,
   "id": "62def5a5",
   "metadata": {},
   "outputs": [],
   "source": [
    "def alarm(set_alarm_timer):\n",
    "    \n",
    "    while True:                                            #Will always work\n",
    "        \n",
    "        time.sleep(1)                                      \n",
    "        current_time = datetime.datetime.now()           #Get the current time\n",
    "        \n",
    "        now = current_time.strftime(\"%H:%M:%S\")          #strftime() is string conversion and allows us to print both \n",
    "                                                         # the date and time\n",
    "        date = current_time.strftime(\"%d/%m/%Y\")\n",
    "        \n",
    "        print(\"The Set Date is:\",date)\n",
    "        print(now)\n",
    "        \n",
    "        if now == set_alarm_timer:\n",
    "            print(\"Time to Wake up\")\n",
    "        \n",
    "            winsound.PlaySound(\"sound.wav\",winsound.SND_ASYNC)\n",
    "            break\n",
    "\n"
   ]
  },
  {
   "cell_type": "code",
   "execution_count": null,
   "id": "14d1036b",
   "metadata": {},
   "outputs": [],
   "source": [
    "def actual_time():                                               #We use this function to get the user value for setting\n",
    "                                                                 # the alarm\n",
    "    set_alarm_timer = f \"{hour.get()}:{min.get()}:{sec.get()}\"\n",
    "    alarm(set_alarm_timer)\n",
    "    \n",
    "    "
   ]
  },
  {
   "cell_type": "code",
   "execution_count": null,
   "id": "e46a1b39",
   "metadata": {},
   "outputs": [],
   "source": [
    "\n",
    "#Creating GUI using tkinter:\n",
    "\n",
    "\n",
    "clock = Tk()                                         #Initialize tkinter\n",
    "\n",
    "clock.title(\"DataFlair Alarm Clock\")\n",
    "clock.geometry(\"400x200\")                           #We have defined the geometry and title of the clock\n",
    "\n",
    "\n",
    "#These are just the labels (headings) to maake our GUI look attractive\n",
    "\n",
    "time_format = Label(clock, text= \"Enter time in 24 hour format!\", fg=\"red\",bg=\"black\",font=\"Arial\").place(x=60,y=120)\n",
    "addTime = Label(clock,text = \"Hour  Min   Sec\",font=60).place(x = 110)\n",
    "\n",
    "setYourAlarm = Label(clock,text = \"When to wake you up\",fg=\"blue\",relief = \"solid\"\n",
    "                     ,font=(\"Helevetica\",7,\"bold\")).place(x=0, y=29)\n",
    "\n",
    "# The Variables we require to set the alarm(initialization):\n",
    "\n",
    "hour = StringVar()\n",
    "min = StringVar()\n",
    "sec = StringVar()\n",
    "\n",
    "#Time required to set the alarm clock:\n",
    "\n",
    "hourTime= Entry(clock,textvariable = hour,bg = \"pink\",width = 15).place(x=110,y=30)       #These take the entry of the time\n",
    "minTime= Entry(clock,textvariable = min,bg = \"pink\",width = 15).place(x=150,y=30)         #that the user wants to set the\n",
    "secTime = Entry(clock,textvariable = sec,bg = \"pink\",width = 15).place(x=200,y=30)        #alarm for\n",
    "\n",
    "#To take the time input by user:\n",
    "\n",
    "submit = Button(clock,text = \"Set Alarm\",fg=\"red\",width = 10,command = actual_time).place(x =110,y=70)\n",
    "\n",
    "#Submit takes the command of the defined function actual_time and executes the clock\n",
    "\n",
    "clock.mainloop()             #It compiles all the previous commands\n",
    "\n",
    "#Execution of the window."
   ]
  },
  {
   "cell_type": "markdown",
   "id": "f441c8bc",
   "metadata": {},
   "source": [
    "## <span style=\"color:red\">Tkinter StringVar </span> "
   ]
  },
  {
   "cell_type": "code",
   "execution_count": null,
   "id": "3f201c02",
   "metadata": {},
   "outputs": [],
   "source": [
    "\n",
    "\n",
    "#The Tkinter StringVar helps you manage the value of a widget such as a Label or Entry more effectively.\n",
    "\n",
    "#To create a new StringVar object, you use the StringVar constructor like this:\n",
    "\n",
    "                       #string_var = tk.StringVar(container, value, name)\n",
    "    \n",
    "\n",
    "#For example, the following assigns the string_var to textvariable of the Entry widget:\n",
    "\n",
    "                         #name_entry = ttk.Entry(root, textvariable=string_var)\n",
    "\n",
    "\n",
    "    #To get the current value of the Entry widget, you can use the get() method of the StringVar object:\n",
    "\n",
    "                                           #name_var.get()\n",
    "\n",
    "\n",
    "        #The StringVar object will notify you whenever its value changes. This feature is useful if you want \n",
    "#to automatically update other widgets based on the current value of the StringVar object.\n",
    "\n",
    "\n",
    "#To invoke a callback whenever the value of an StringVar object changes, you use the trace() method \n",
    "#of the StringVar object:\n",
    "\n",
    "                                      #string_var.trace('w', callback)\n",
    "\n",
    "#The 'w' mode will automatically invoke the callback whenever the value of the string_var changes.\n",
    "\n",
    "#The StringVar also provides you with two other modes 'r' and 'u':\n",
    "\n",
    "#'r' (read) – invoke the callback whenever the variable is read.\n",
    "#'u' (unset) – invoke the callback whenever the variable is deleted."
   ]
  },
  {
   "cell_type": "code",
   "execution_count": null,
   "id": "5f2b6867",
   "metadata": {},
   "outputs": [],
   "source": []
  }
 ],
 "metadata": {
  "kernelspec": {
   "display_name": "Python 3",
   "language": "python",
   "name": "python3"
  },
  "language_info": {
   "codemirror_mode": {
    "name": "ipython",
    "version": 3
   },
   "file_extension": ".py",
   "mimetype": "text/x-python",
   "name": "python",
   "nbconvert_exporter": "python",
   "pygments_lexer": "ipython3",
   "version": "3.8.8"
  }
 },
 "nbformat": 4,
 "nbformat_minor": 5
}
